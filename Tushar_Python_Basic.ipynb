{
  "nbformat": 4,
  "nbformat_minor": 0,
  "metadata": {
    "colab": {
      "provenance": []
    },
    "kernelspec": {
      "name": "python3",
      "display_name": "Python 3"
    },
    "language_info": {
      "name": "python"
    }
  },
  "cells": [
    {
      "cell_type": "markdown",
      "source": [
        "\n",
        "\n",
        "```\n",
        "`# This is formatted as code`\n",
        "```\n",
        "\n",
        "#Theoretical Questions & Answers"
      ],
      "metadata": {
        "id": "AEhIqpuLACtx"
      }
    },
    {
      "cell_type": "markdown",
      "source": [
        "### 1. What is Python, and why is it popular?  \n",
        "Python is a high-level, interpreted programming language known for its readability and simplicity. It is popular due to its versatility, extensive libraries, and strong community support, making it suitable for web development, data analysis, artificial intelligence, scientific computing, and more.\n",
        "\n",
        "### 2. What is an interpreter in Python?  \n",
        "Pre-defined keywords in Python are reserved words that have special meanings in the language, such as if, else, while, for, def, return, class, import, and try. They cannot be used as variable names.\n",
        "\n",
        "### 3. What are pre-defined keywords in Python?  \n",
        "Pre-defined keywords in Python are reserved words that have special meanings in the language, such as `if`, `else`, `while`, `for`, `def`, `return`, `class`, `import`, and `try`. They cannot be used as variable names.  \n",
        "\n",
        "### 4. Can keywords be used as variable names?  \n",
        "No, keywords cannot be used as variable names because they are reserved for specific functions in Python. Attempting to use them as variables will result in a syntax error.  \n",
        "\n",
        "### 5. What is mutability in Python?  \n",
        "Mutability refers to whether an object’s value can be changed after it is created. Mutable objects can be modified, while immutable objects cannot be altered once assigned.  \n",
        "\n",
        "### 6. Why are lists mutable, but tuples are immutable?  \n",
        "Lists are mutable because their elements can be modified, added, or removed after creation. Tuples are immutable, meaning their elements cannot be changed once assigned. This distinction helps ensure data integrity in certain use cases.  \n",
        "\n",
        "### 7. What is the difference between `==` and `is` operators in Python?  \n",
        "- `==` checks if two values are equal.  \n",
        "- `is` checks if two variables refer to the same memory location (identity comparison).  \n",
        "\n",
        "### 8. What are logical operators in Python?  \n",
        "Logical operators are used to combine conditional statements:  \n",
        "- `and`: Returns `True` if both conditions are `True`.  \n",
        "- `or`: Returns `True` if at least one condition is `True`.  \n",
        "- `not`: Returns the opposite of the condition’s truth value.  \n",
        "\n",
        "### 9. What is type casting in Python?  \n",
        "Type casting is converting one data type into another. It allows for compatibility between different types, such as converting integers to floats or strings to integers.  \n",
        "\n",
        "### 10. What is the difference between implicit and explicit type casting?  \n",
        "- Implicit type casting: Python automatically converts a smaller data type into a larger one (e.g., int to float).\n",
        "- Explicit type casting: The programmer manually converts a data type using functions like int(), float(), or str().\n",
        "\n",
        "### 11. What is the purpose of conditional statements in Python?  \n",
        "Conditional statements allow a program to make decisions based on conditions. They control the flow of execution using `if`, `elif`, and `else` to execute different blocks of code depending on the given conditions.  \n",
        "\n",
        "### 12. How does the `elif` statement work?  \n",
        "The `elif` statement provides additional conditions after an `if` statement. If the initial `if` condition is false, Python checks `elif` conditions sequentially. If an `elif` condition is true, its block of code executes, and the rest are ignored.  \n",
        "\n",
        "### 13. What is the difference between `for` and `while` loops?  \n",
        "- **`for` loop**: Used when the number of iterations is known; it iterates over sequences like lists or ranges.  \n",
        "- **`while` loop**: Used when the number of iterations is unknown and continues as long as a condition remains true.  \n",
        "\n",
        "### 14. Describe a scenario where a `while` loop is more suitable than a `for` loop.  \n",
        "A `while` loop is useful when the number of iterations is uncertain. For example, in a user authentication system, a `while` loop can repeatedly prompt the user for a password until they enter the correct one. This ensures the loop continues until a valid input is provided, rather than a fixed number of iterations."
      ],
      "metadata": {
        "id": "d_O-28Y0AV_S"
      }
    },
    {
      "cell_type": "markdown",
      "source": [
        "#Practical Questions & Answers"
      ],
      "metadata": {
        "id": "Nb0uovh7_w0p"
      }
    },
    {
      "cell_type": "markdown",
      "source": [
        "1. Write a Python program to print \"Hello, World!\""
      ],
      "metadata": {
        "id": "LwAoCXUGsPAB"
      }
    },
    {
      "cell_type": "code",
      "execution_count": null,
      "metadata": {
        "colab": {
          "base_uri": "https://localhost:8080/"
        },
        "id": "i7y2z-zfj7SA",
        "outputId": "0063de62-5696-4a6b-a097-6a9d7a175247"
      },
      "outputs": [
        {
          "output_type": "stream",
          "name": "stdout",
          "text": [
            "Hello, World!\n"
          ]
        }
      ],
      "source": [
        "print(\"Hello, World!\")"
      ]
    },
    {
      "cell_type": "markdown",
      "source": [
        "2. Write a Python program that displays your name and age."
      ],
      "metadata": {
        "id": "qSWhNPKxr1cB"
      }
    },
    {
      "cell_type": "code",
      "source": [
        "name = \"Tushar Dhankhar\"\n",
        "age = 22\n",
        "print(f\"My name is {name} and my age is {age}.\")"
      ],
      "metadata": {
        "colab": {
          "base_uri": "https://localhost:8080/"
        },
        "id": "qfPO-N40k2Op",
        "outputId": "3eb9205c-dba6-4e7f-f2f8-5c0e9d5c7429"
      },
      "execution_count": 1,
      "outputs": [
        {
          "output_type": "stream",
          "name": "stdout",
          "text": [
            "My name is Tushar Dhankhar and my age is 22.\n"
          ]
        }
      ]
    },
    {
      "cell_type": "markdown",
      "source": [
        "3. Write code to print all the pre-defined keywords in Python using the keyword library."
      ],
      "metadata": {
        "id": "g2cPyezor-Hi"
      }
    },
    {
      "cell_type": "code",
      "source": [
        "import keyword\n",
        "print(keyword.kwlist)"
      ],
      "metadata": {
        "colab": {
          "base_uri": "https://localhost:8080/"
        },
        "id": "tCo4nMHFlSGj",
        "outputId": "e331d0a6-4bc8-4eb1-efb1-8de8fa120463"
      },
      "execution_count": null,
      "outputs": [
        {
          "output_type": "stream",
          "name": "stdout",
          "text": [
            "['False', 'None', 'True', 'and', 'as', 'assert', 'async', 'await', 'break', 'class', 'continue', 'def', 'del', 'elif', 'else', 'except', 'finally', 'for', 'from', 'global', 'if', 'import', 'in', 'is', 'lambda', 'nonlocal', 'not', 'or', 'pass', 'raise', 'return', 'try', 'while', 'with', 'yield']\n"
          ]
        }
      ]
    },
    {
      "cell_type": "markdown",
      "source": [
        "4. Write a program that checks if a given word is a Python keyword."
      ],
      "metadata": {
        "id": "ZHlr3QIKsDgu"
      }
    },
    {
      "cell_type": "code",
      "source": [
        "import keyword\n",
        "word = input(\"Enter a word here: \")\n",
        "if keyword.iskeyword(word):\n",
        "    print(f\"{word} is a Python keyword.\")\n",
        "else:\n",
        "    print(f\"{word} is not a Python keyword.\")"
      ],
      "metadata": {
        "id": "-3gtrhO6mMxV"
      },
      "execution_count": null,
      "outputs": []
    },
    {
      "cell_type": "markdown",
      "source": [
        "5. Create a list and tuple in Python, and demonstrate how attempting to change an element works differently for each."
      ],
      "metadata": {
        "id": "4jPWHhCerqrC"
      }
    },
    {
      "cell_type": "code",
      "source": [
        "l = [25,60,45,30,90]\n",
        "t = (25,60,45,30,90)\n",
        "\n",
        "# Modifying an element in the list\n",
        "l[0] = \"Tushar\"\n",
        "print(\"Modify list:\",l)\n",
        "\n",
        "# Attempting to modify an element in the tuple (will raise an error)\n",
        "try:\n",
        "    t[2] = \"Tushar\"\n",
        "except TypeError as e:\n",
        "    print(\"Error:\", e)"
      ],
      "metadata": {
        "id": "_VbxHWirnTAC",
        "colab": {
          "base_uri": "https://localhost:8080/"
        },
        "outputId": "06fe291f-ee78-43fe-f518-dd0a30ba5913"
      },
      "execution_count": 2,
      "outputs": [
        {
          "output_type": "stream",
          "name": "stdout",
          "text": [
            "Modify list: ['Tushar', 60, 45, 30, 90]\n",
            "Error: 'tuple' object does not support item assignment\n"
          ]
        }
      ]
    },
    {
      "cell_type": "markdown",
      "source": [
        "6. Write a function to demonstrate the behavior of mutable and immutable arguments.\n"
      ],
      "metadata": {
        "id": "qVNfjxVprbsN"
      }
    },
    {
      "cell_type": "code",
      "source": [
        "def modify_stuff(immutable, mutable):\n",
        "    # Trying to change an immutable thing (like a number)\n",
        "    immutable += 10\n",
        "    print(\"Inside function (immutable):\", immutable)\n",
        "\n",
        "    # Changing a mutable thing (like a list)\n",
        "    mutable.append(99)\n",
        "    print(\"Inside function (mutable):\", mutable)\n",
        "\n",
        "# Immutable thing (number)\n",
        "num = 5\n",
        "# Mutable thing (list)\n",
        "my_list = [1, 2, 3]\n",
        "\n",
        "print(\"Before function call:\")\n",
        "print(\"Number:\", num)\n",
        "print(\"List:\", my_list)\n",
        "\n",
        "modify_stuff(num, my_list)\n",
        "\n",
        "print(\"\\nAfter function call:\")\n",
        "print(\"Number:\", num)  # Still the same\n",
        "print(\"List:\", my_list)  # Changed!"
      ],
      "metadata": {
        "id": "8lMDcH3armmK"
      },
      "execution_count": null,
      "outputs": []
    },
    {
      "cell_type": "markdown",
      "source": [
        "7. Write a function to demonstrate the behavior of mutable and immutable arguments.\n"
      ],
      "metadata": {
        "id": "Gls5xfJQwCBP"
      }
    },
    {
      "cell_type": "code",
      "source": [
        "def test_mutable_immutable(num, my_list):\n",
        "    num += 10  # Modifying an immutable argument (integer)\n",
        "    my_list.append(4)  # Modifying a mutable argument (list)\n",
        "\n",
        "    print(\"Inside function - num:\", num)\n",
        "    print(\"Inside function - my_list:\", my_list)\n",
        "\n",
        "# Immutable argument (integer)\n",
        "x = 5\n",
        "# Mutable argument (list)\n",
        "y = [1, 2, 3]\n",
        "\n",
        "print(\"Before function call - x:\", x)\n",
        "print(\"Before function call - y:\", y)\n",
        "\n",
        "test_mutable_immutable(x, y)\n",
        "\n",
        "print(\"After function call - x:\", x)  # x remains unchanged\n",
        "print(\"After function call - y:\", y)  # y is modified"
      ],
      "metadata": {
        "id": "4kkbKuY6sgrY"
      },
      "execution_count": null,
      "outputs": []
    },
    {
      "cell_type": "markdown",
      "source": [
        "8. Write a program to demonstrate the use of logical operators."
      ],
      "metadata": {
        "id": "zrvNojV4wUNs"
      }
    },
    {
      "cell_type": "code",
      "source": [
        "# Logical Operators Example\n",
        "\n",
        "a = True\n",
        "b = False\n",
        "\n",
        "# Using 'and' operator\n",
        "print(\"a and b:\", a and b)  # False because both must be True\n",
        "\n",
        "# Using 'or' operator\n",
        "print(\"a or b:\", a or b)  # True because at least one is True\n",
        "\n",
        "# Using 'not' operator\n",
        "print(\"not a:\", not a)  # False because 'a' is True\n",
        "print(\"not b:\", not b)  # True because 'b' is False\n",
        "\n",
        "# Logical operators with numbers\n",
        "x = 10\n",
        "y = 5\n",
        "\n",
        "print(\"x > 5 and y < 10:\", x > 5 and y < 10)  # True (both conditions are True)\n",
        "print(\"x < 5 or y < 10:\", x < 5 or y < 10)   # True (one condition is True)\n",
        "print(\"not (x == 10):\", not (x == 10))       # False (x is 10, so `not` makes it False)"
      ],
      "metadata": {
        "id": "4V5ozaFjxEMr"
      },
      "execution_count": null,
      "outputs": []
    },
    {
      "cell_type": "markdown",
      "source": [
        "9. Write a Python program to convert user input from string to integer, float, and boolean types."
      ],
      "metadata": {
        "id": "bi4XdxwJxWKi"
      }
    },
    {
      "cell_type": "code",
      "source": [
        "user_input = input(\"Enter a value: \")\n",
        "\n",
        "int_input = int(user_input)\n",
        "float_input = float(user_input)\n",
        "bool_input = bool(user_input)\n",
        "\n",
        "print(\"Input as integer:\", int_input)\n",
        "print(\"Input as float:\", float_input)\n",
        "print(\"Input as boolean:\", bool_input)"
      ],
      "metadata": {
        "id": "LEemejkOxZU-"
      },
      "execution_count": null,
      "outputs": []
    },
    {
      "cell_type": "markdown",
      "source": [
        "10. Write code to demonstrate type casting with list elements."
      ],
      "metadata": {
        "id": "D3GxF5jy1Rqn"
      }
    },
    {
      "cell_type": "code",
      "source": [
        "# Original list with different data types\n",
        "z_list = [\"1\", \"45\", \"6.7\", \"CoverYou\"]  # All elements are strings\n",
        "\n",
        "# Convert elements to different types\n",
        "int_list = [int(z_list[0]), int(z_list[1])]  # Convert first two to integers\n",
        "float_list = [float(z_list[2])]  # Convert third element to float\n",
        "bool_list = [bool(z_list[3])]  # Convert fourth element to boolean\n",
        "\n",
        "# Print results\n",
        "print(\"Original list:\", z_list)\n",
        "print(\"As integers:\", int_list)\n",
        "print(\"As floats:\", float_list)\n",
        "print(\"As booleans:\", bool_list)"
      ],
      "metadata": {
        "id": "B5j-1iAG1Fea",
        "colab": {
          "base_uri": "https://localhost:8080/"
        },
        "outputId": "c638ded2-229f-462c-fdc6-1e965a194481"
      },
      "execution_count": 3,
      "outputs": [
        {
          "output_type": "stream",
          "name": "stdout",
          "text": [
            "Original list: ['1', '45', '6.7', 'CoverYou']\n",
            "As integers: [1, 45]\n",
            "As floats: [6.7]\n",
            "As booleans: [True]\n"
          ]
        }
      ]
    },
    {
      "cell_type": "markdown",
      "source": [
        "11. Write a program that checks if a number is positive, negative, or zero."
      ],
      "metadata": {
        "id": "F2W06JPw21VT"
      }
    },
    {
      "cell_type": "code",
      "source": [
        "# Get user input\n",
        "number = int(input(\"Write a number to check: \"))\n",
        "\n",
        "# Check if the number is positive, negative, or zero\n",
        "if number<0:\n",
        "    print(\"The number is negative.\")\n",
        "elif number>0:\n",
        "    print(\"The number is positive.\")\n",
        "else:\n",
        "    print(\"The number is zero.\")"
      ],
      "metadata": {
        "id": "tszS8elE17Sv",
        "colab": {
          "base_uri": "https://localhost:8080/"
        },
        "outputId": "d48ed707-a380-403a-9f80-6a504cad62f7"
      },
      "execution_count": 4,
      "outputs": [
        {
          "output_type": "stream",
          "name": "stdout",
          "text": [
            "Write a number to check: 9\n",
            "The number is positive.\n"
          ]
        }
      ]
    },
    {
      "cell_type": "markdown",
      "source": [
        "12.  Write a for loop to print numbers from 1 to 10."
      ],
      "metadata": {
        "id": "hNCiekOK3_7l"
      }
    },
    {
      "cell_type": "code",
      "source": [
        "for i in range(1,11):\n",
        "  if i<10:\n",
        "    print(i,end=\", \")\n",
        "  else:\n",
        "    print(i)"
      ],
      "metadata": {
        "id": "qMGIL_dD2_pD",
        "colab": {
          "base_uri": "https://localhost:8080/"
        },
        "outputId": "c7c8ae44-cd9a-4860-bc06-c36ff8428431"
      },
      "execution_count": 5,
      "outputs": [
        {
          "output_type": "stream",
          "name": "stdout",
          "text": [
            "1, 2, 3, 4, 5, 6, 7, 8, 9, 10\n"
          ]
        }
      ]
    },
    {
      "cell_type": "markdown",
      "source": [
        "13. Write a Python program to find the sum of all even numbers between 1 and 50."
      ],
      "metadata": {
        "id": "qbVC2QiX5TUL"
      }
    },
    {
      "cell_type": "code",
      "source": [
        "# Initialize sum variable\n",
        "sum_of_even = 0\n",
        "\n",
        "# Loop through numbers from 1 to 50\n",
        "for i in range(2, 51, 2):  # Start from 2, step by 2 to get even numbers\n",
        "    sum_of_even += i\n",
        "\n",
        "# Print the result\n",
        "print(\"Sum of even numbers between 1 and 50:\", sum_of_even)"
      ],
      "metadata": {
        "id": "NJAA8WUm4YPu",
        "colab": {
          "base_uri": "https://localhost:8080/"
        },
        "outputId": "b80abb04-e431-41dd-e5a1-6af4ba3b7d47"
      },
      "execution_count": 6,
      "outputs": [
        {
          "output_type": "stream",
          "name": "stdout",
          "text": [
            "Sum of even numbers between 1 and 50: 650\n"
          ]
        }
      ]
    },
    {
      "cell_type": "markdown",
      "source": [
        "14. Write a program to reverse a string using a while loop."
      ],
      "metadata": {
        "id": "V2GP8glV6spB"
      }
    },
    {
      "cell_type": "code",
      "source": [
        "# Get user input\n",
        "text = input(\"Enter a string: \")\n",
        "\n",
        "# Initialize variables\n",
        "reversed_text = \"\"  # This will store the reversed string\n",
        "index = len(text) - 1  # Start from the last character\n",
        "\n",
        "# Loop through the string in reverse order\n",
        "while index >= 0:\n",
        "    reversed_text += text[index]  # Add each character to reversed_text\n",
        "    index -= 1  # Move to the previous character\n",
        "\n",
        "# Print the reversed string\n",
        "print(\"Reversed string:\", reversed_text)"
      ],
      "metadata": {
        "id": "JvBOCeLK5fCG"
      },
      "execution_count": null,
      "outputs": []
    },
    {
      "cell_type": "markdown",
      "source": [
        "15. Write a Python program to calculate the factorial of a number provided by the user using a while loop"
      ],
      "metadata": {
        "id": "oM6H-Ybl9G61"
      }
    },
    {
      "cell_type": "code",
      "source": [
        "# Get user input\n",
        "num = int(input(\"Enter a number: \"))\n",
        "\n",
        "# Initialize variables\n",
        "factorial = 1\n",
        "i = num  # Start from the given number\n",
        "\n",
        "# Use while loop to calculate factorial\n",
        "while i > 0:\n",
        "    factorial *= i  # Multiply factorial by the current number\n",
        "    i -= 1  # Decrease the number by 1\n",
        "\n",
        "# Print the result\n",
        "print(f\"The factorial of {num} is: {factorial}\")\n"
      ],
      "metadata": {
        "id": "tJ05riDQ9YO1"
      },
      "execution_count": null,
      "outputs": []
    }
  ]
}